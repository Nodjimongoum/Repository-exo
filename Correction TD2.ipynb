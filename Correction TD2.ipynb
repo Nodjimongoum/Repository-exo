{
 "cells": [
  {
   "cell_type": "code",
   "execution_count": 2,
   "id": "6561fee2",
   "metadata": {},
   "outputs": [
    {
     "name": "stdout",
     "output_type": "stream",
     "text": [
      "{'nom': 'grene', 'age': '12', 'prenom': 'nas'}\n"
     ]
    }
   ],
   "source": [
    "#Exercice 1\n",
    "mon_dict={\"nom\":\"grene\",\n",
    "    \"age\":\"12\"\n",
    "}\n",
    "mon_dict[\"prenom\"]=\"nas\"\n",
    "print(mon_dict)\n"
   ]
  },
  {
   "cell_type": "code",
   "execution_count": 3,
   "id": "979290a6",
   "metadata": {},
   "outputs": [
    {
     "data": {
      "text/plain": [
       "{1: 10, 2: 20, 3: 30, 4: 40, 5: 50, 6: 60}"
      ]
     },
     "execution_count": 3,
     "metadata": {},
     "output_type": "execute_result"
    }
   ],
   "source": [
    "#Exercice 2\n",
    "dic1={1:10,2:25}\n",
    "dic2={3:35,4:40}\n",
    "dic3={5:50,6:60}\n",
    "dic1.update(dic2)\n",
    "dic1.update(dic3)\n",
    "dic1"
   ]
  },
  {
   "cell_type": "code",
   "execution_count": 7,
   "id": "4510c9e6",
   "metadata": {},
   "outputs": [
    {
     "name": "stdout",
     "output_type": "stream",
     "text": [
      "avocat\n",
      "mangue\n",
      "banane\n"
     ]
    }
   ],
   "source": [
    "#Exercice 9\n",
    "set={\"orange\",\"avocat\",\"mangue\"}\n",
    "set.add(\"banane\")\n",
    "set.remove(\"orange\")\n",
    "for a in set:\n",
    "    print(a)"
   ]
  },
  {
   "cell_type": "code",
   "execution_count": 11,
   "id": "1de56a89",
   "metadata": {},
   "outputs": [
    {
     "name": "stdout",
     "output_type": "stream",
     "text": [
      "nom Hissein\n",
      "prenom Hassane\n",
      "quartier amriguébé\n"
     ]
    }
   ],
   "source": [
    "#Exercice 4\n",
    "dico={\"nom\":\"Hissein\",\"prenom\":\"Hassane\",\"quartier\":\"amriguébé\"}\n",
    "for (v,k) in dico.items():\n",
    "    print(v,k)"
   ]
  },
  {
   "cell_type": "code",
   "execution_count": 19,
   "id": "0a70b58e",
   "metadata": {},
   "outputs": [
    {
     "name": "stdout",
     "output_type": "stream",
     "text": [
      "entrer un nombre5\n"
     ]
    },
    {
     "data": {
      "text/plain": [
       "{1: 1, 2: 4, 3: 9, 4: 16, 5: 25}"
      ]
     },
     "execution_count": 19,
     "metadata": {},
     "output_type": "execute_result"
    }
   ],
   "source": [
    "#Exercice 5\n",
    "n=int(input(\"entrer un nombre\"))\n",
    "dic={}\n",
    "for i in range(1,n+1):\n",
    "    dic[i]=i*i\n",
    "dic"
   ]
  },
  {
   "cell_type": "code",
   "execution_count": 16,
   "id": "653fec74",
   "metadata": {},
   "outputs": [
    {
     "name": "stdout",
     "output_type": "stream",
     "text": [
      "{1: 1, 2: 4, 3: 9, 4: 16, 5: 25, 6: 36, 7: 49, 8: 64, 9: 81, 10: 100, 11: 121, 12: 144, 13: 169, 14: 196, 15: 225}\n"
     ]
    }
   ],
   "source": [
    "#Exercice 6\n",
    "dict={}\n",
    "for i in range(1,16):\n",
    "    dict[i]=i**2\n",
    "print(dict)"
   ]
  },
  {
   "cell_type": "code",
   "execution_count": null,
   "id": "7601b889",
   "metadata": {},
   "outputs": [],
   "source": [
    "#Exercice 8"
   ]
  }
 ],
 "metadata": {
  "kernelspec": {
   "display_name": "Python 3",
   "language": "python",
   "name": "python3"
  },
  "language_info": {
   "codemirror_mode": {
    "name": "ipython",
    "version": 3
   },
   "file_extension": ".py",
   "mimetype": "text/x-python",
   "name": "python",
   "nbconvert_exporter": "python",
   "pygments_lexer": "ipython3",
   "version": "3.8.8"
  }
 },
 "nbformat": 4,
 "nbformat_minor": 5
}
